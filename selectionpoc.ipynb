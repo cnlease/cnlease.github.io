{
  "nbformat": 4,
  "nbformat_minor": 0,
  "metadata": {
    "colab": {
      "provenance": [],
      "include_colab_link": true
    },
    "kernelspec": {
      "name": "python3",
      "display_name": "Python 3"
    },
    "language_info": {
      "name": "python"
    }
  },
  "cells": [
    {
      "cell_type": "markdown",
      "metadata": {
        "id": "view-in-github",
        "colab_type": "text"
      },
      "source": [
        "<a href=\"https://colab.research.google.com/github/cnlease/cnlease.github.io/blob/main/selectionpoc.ipynb\" target=\"_parent\"><img src=\"https://colab.research.google.com/assets/colab-badge.svg\" alt=\"Open In Colab\"/></a>"
      ]
    },
    {
      "cell_type": "code",
      "execution_count": 5,
      "metadata": {
        "id": "tZGwopH4Y7oL"
      },
      "outputs": [],
      "source": [
        "# Template for testing Selection Sort on small lists, outputing each intermediate step"
      ]
    },
    {
      "cell_type": "code",
      "source": [
        "import random\n",
        "import time\n",
        "import math"
      ],
      "metadata": {
        "id": "fSME9MywceAq"
      },
      "execution_count": 6,
      "outputs": []
    },
    {
      "cell_type": "code",
      "source": [
        "def selection(A,print_flag):\n",
        "  for i in range(0, N-1):\n",
        "    smallest = i\n",
        "    j=i-1\n",
        "    for j in range(i+1, N):\n",
        "      if A[smallest] > A[j]:\n",
        "        smallest = j\n",
        "    A[i], A[smallest] = A[smallest], A[i]\n",
        "    if print_flag:\n",
        "      print(A)\n",
        "\n",
        "\n",
        "# for your convenience, the psuedocode from class is provided, and note that you don't really need line 1, you can handle that in the outer for loop statement\n",
        "#n = length[A]\n",
        "#for i=1 to n-1:\n",
        "#   smallest = i\n",
        "#   for j=i+1 to n:\n",
        "#      if A[smallest] > A[j]\n",
        "#         then smallest = j\n",
        "#   Swap A[i] with A[smallest]"
      ],
      "metadata": {
        "id": "TJZL4jFQZhAp"
      },
      "execution_count": 7,
      "outputs": []
    },
    {
      "cell_type": "code",
      "source": [
        "print(\"non-sorted trial\")\n",
        "for i in range(1,3):#non sorted data trial\n",
        "  N = int(math.pow(10,i))\n",
        "  A = list(range(N))\n",
        "  random.shuffle(A)\n",
        "  start = time.time()\n",
        "  selection(A, False)\n",
        "  end = time.time()\n",
        "  ratio=(end-start)/(pow(N,N))\n",
        "  print(\"N = \", N, \"Time= \", end-start, \"Ratio= \", ratio)\n",
        "\n",
        "print(\"sorted trial:\")\n",
        "\n",
        "for i in range(1,3): #sorted data trials\n",
        "  N = int(math.pow(10,i))\n",
        "  A = list(range(N))\n",
        "  start = time.time()\n",
        "  selection(A, False)\n",
        "  end = time.time()\n",
        "  ratio=(end-start)/(pow(N,N))\n",
        "  print(\"N = \", N, \"Time= \", end-start, \"Ratio= \", ratio)"
      ],
      "metadata": {
        "id": "f1GS3NjwZqmS",
        "colab": {
          "base_uri": "https://localhost:8080/"
        },
        "outputId": "12cc9715-5e79-4494-a6bb-1b970eacce24"
      },
      "execution_count": 17,
      "outputs": [
        {
          "output_type": "stream",
          "name": "stdout",
          "text": [
            "non-sorted trial\n",
            "N =  10 Time=  4.76837158203125e-06 Ratio=  4.76837158203125e-16\n",
            "N =  100 Time=  0.0001266002655029297 Ratio=  1.2660026550292969e-204\n",
            "sorted trial:\n",
            "N =  10 Time=  4.0531158447265625e-06 Ratio=  4.0531158447265623e-16\n",
            "N =  100 Time=  0.000125885009765625 Ratio=  1.25885009765625e-204\n"
          ]
        }
      ]
    }
  ]
}